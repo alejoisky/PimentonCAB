{
  "nbformat": 4,
  "nbformat_minor": 0,
  "metadata": {
    "colab": {
      "provenance": []
    },
    "kernelspec": {
      "name": "python3",
      "display_name": "Python 3"
    },
    "language_info": {
      "name": "python"
    }
  },
  "cells": [
    {
      "cell_type": "code",
      "execution_count": 22,
      "metadata": {
        "colab": {
          "base_uri": "https://localhost:8080/"
        },
        "id": "4n1ZnxHcG901",
        "outputId": "9ef09988-6bcf-449f-f7d2-8c43a35a59af"
      },
      "outputs": [
        {
          "output_type": "stream",
          "name": "stdout",
          "text": [
            "Drive already mounted at /content/drive; to attempt to forcibly remount, call drive.mount(\"/content/drive\", force_remount=True).\n"
          ]
        }
      ],
      "source": [
        "import pandas as pd\n",
        "from sqlite3.dbapi2 import Cursor\n",
        "import sqlite3 as sql\n",
        "import csv\n",
        "\n",
        "from google.colab import drive\n",
        "drive.mount('/content/drive')\n",
        "\n",
        "df = pd.read_excel(\"/content/drive/MyDrive/Almacenamiento de datos/Datos_Cultivo.xlsx\", header = 0)\n",
        "df1 = pd.DataFrame(df)\n",
        "df1.to_csv('datos_cultivo.csv', sep=',', index=False, encoding='utf-8')\n",
        "\n",
        "#Creamos la base de datps\n",
        "def createDB():\n",
        "  conn = sql.connect('Cultivo.db')\n",
        "  conn.commit()\n",
        "  conn.close()\n",
        "\n",
        "createDB()\n"
      ]
    },
    {
      "cell_type": "code",
      "source": [
        "#creamos la tabla\n",
        "\n",
        "def tableDB():\n",
        "  conn = sql.connect(\"Cultivo.db\")\n",
        "  cursor = conn.cursor()\n",
        "  cursor.execute('''CREATE TABLE datos_cultivo(\n",
        "    Semilla INT,\n",
        "    Tratamiento TEXT,\n",
        "    Germinacion INT,\n",
        "    Materia_Fresca_Raiz FLOAT,\n",
        "    Materia_Fresca_Tallo FLOAT,\n",
        "    Materia_Seca_Raiz FLOAT,\n",
        "    Materia_Seca_Tallo FLOAT,\n",
        "    Peso_Dia3 FLOAT,\n",
        "    Altura_Dia1 FLOAT,\n",
        "    Diametro_Dia1 FLOAT,\n",
        "    Peso_Dia2 FLOAT,\n",
        "    Altura_Dia2 FLOAT,\n",
        "    Diametro_Dia2 FLOAT,\n",
        "    Peso_Dia1 FLOAT,\n",
        "    Altura_Dia3 FLOAT,\n",
        "    Diametro_Dia3 FLOAT\n",
        "  );''')\n",
        "\n",
        "  file = open('datos_cultivo.csv')\n",
        "  contents = csv.reader(file)\n",
        "  insert_records = \"INSERT INTO datos_cultivo (Semilla, Tratamiento, Germinacion, Materia_Fresca_Raiz, Materia_Fresca_Tallo, Materia_Seca_Raiz, Materia_Seca_Tallo, Peso_Dia3, Altura_Dia1, Diametro_Dia1, Peso_Dia2, Altura_Dia2, Diametro_Dia2, Peso_Dia1, Altura_Dia3, Diametro_Dia3) VALUES(?,?,?,?,?,?,?,?,?,?,?,?,?,?,?,?)\"\n",
        "  cursor.executemany(insert_records, contents)\n",
        "\n",
        "  conn.commit() #Haga el cambio que se esta haciendo\n",
        "  conn.close()\n",
        "  print(\"Cree la tabla\")\n",
        "\n",
        "tableDB()\n"
      ],
      "metadata": {
        "colab": {
          "base_uri": "https://localhost:8080/"
        },
        "id": "8Mr3H7XgJY0L",
        "outputId": "6ec96e79-044e-4bba-ce1b-a96bbca0130e"
      },
      "execution_count": 23,
      "outputs": [
        {
          "output_type": "stream",
          "name": "stdout",
          "text": [
            "Cree la tabla\n"
          ]
        }
      ]
    },
    {
      "cell_type": "code",
      "source": [
        "#Leer la tabla\n",
        "conn = sql.connect(\"Cultivo.db\")\n",
        "cursor = conn.cursor()\n",
        "query = \"SELECT * FROM datos_cultivo;\"\n",
        "datospimenton = cursor.execute(query).fetchall()\n",
        "for r in datospimenton:\n",
        "    print(r)\n",
        "conn.commit()\n",
        "conn.close()"
      ],
      "metadata": {
        "id": "0wedy0kpcxnI"
      },
      "execution_count": null,
      "outputs": []
    },
    {
      "cell_type": "code",
      "source": [
        "#Actualuzar la tabla\n",
        "conn = sql.connect(\"Cultivo.db\")\n",
        "cursor = conn.cursor()\n",
        "query = \"UPDATE datos_cultivo SET Germinacion = 'sacrificada' WHERE Materia_Fresca_Raiz > 0;\"\n",
        "datospimenton = cursor.execute(query)\n",
        "conn.commit()\n",
        "conn.close()"
      ],
      "metadata": {
        "id": "vz92EYqJf2iC"
      },
      "execution_count": 25,
      "outputs": []
    },
    {
      "cell_type": "code",
      "source": [
        "#Leer la tabla\n",
        "conn = sql.connect(\"Cultivo.db\")\n",
        "cursor = conn.cursor()\n",
        "query = \"SELECT Semilla, Tratamiento, Germinacion FROM datos_cultivo;\"\n",
        "df3 = pd.read_sql(query, conn)\n",
        "df3.to_csv('Datos_Cultivo3.csv', index = False)\n",
        "conn.commit()\n",
        "conn.close()"
      ],
      "metadata": {
        "id": "lTI04G5Dgqx5"
      },
      "execution_count": 26,
      "outputs": []
    },
    {
      "cell_type": "code",
      "source": [
        "#Borrar los datos\n",
        "conn = sql.connect(\"Cultivo.db\")\n",
        "cursor = conn.cursor()\n",
        "query = \"DELETE FROM datos_cultivo WHERE Peso_Dia3 = 0;\"\n",
        "datospimenton = cursor.execute(query)\n",
        "conn.commit()\n",
        "conn.close()"
      ],
      "metadata": {
        "id": "0h3xY30fh8SZ"
      },
      "execution_count": 27,
      "outputs": []
    },
    {
      "cell_type": "code",
      "source": [
        "#Leer la tabla\n",
        "conn = sql.connect(\"Cultivo.db\")\n",
        "cursor = conn.cursor()\n",
        "query = \"SELECT Semilla, Tratamiento, Peso_Dia3, Peso_Dia2, Peso_Dia1 FROM datos_cultivo;\"\n",
        "df2 = pd.read_sql(query, conn)\n",
        "df2.to_csv('Datos_Cultivo2.csv', index = False)\n",
        "conn.commit()\n",
        "conn.close()"
      ],
      "metadata": {
        "id": "IUrTyoo-iQlB"
      },
      "execution_count": 28,
      "outputs": []
    }
  ]
}